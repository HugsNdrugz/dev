{
  "cells": [
    {
      "cell_type": "markdown",
      "metadata": {
        "id": "view-in-github",
        "colab_type": "text"
      },
      "source": [
        "<a href=\"https://colab.research.google.com/github/HugsNdrugz/dev/blob/main/Whisper_for_Podcasters_v0_2.ipynb\" target=\"_parent\"><img src=\"https://colab.research.google.com/assets/colab-badge.svg\" alt=\"Open In Colab\"/></a>"
      ]
    },
    {
      "cell_type": "markdown",
      "source": [
        "# Whisper for Podcasters v0.2 Oct 2, 2022\n",
        "\n",
        "This is really, really bare bones. By [@UncannyRobot](https://twitter.com/UncannyRobot)\n",
        "\n",
        "Someone with more time and ambition could add all kinds of bells and whistles to this, ~~like connecting it to Google Drive.~~ v0.2: Done!\n",
        "\n",
        "The original code repository from OpenAI is here:\n",
        "\n",
        "https://github.com/openai/whisper"
      ],
      "metadata": {
        "id": "XIHLsuHoiBdz"
      }
    },
    {
      "cell_type": "markdown",
      "metadata": {
        "id": "v5hvo8QWN-a9"
      },
      "source": [
        "# Installing Whisper\n",
        "\n",
        "The commands below will install the Python packages needed to use Whisper models. Click on the double brackets. Wait for the mumbo-jumbo to stop mumbo-jumboing."
      ]
    },
    {
      "cell_type": "code",
      "execution_count": null,
      "metadata": {
        "id": "ZsJUxc0aRsAf",
        "colab": {
          "base_uri": "https://localhost:8080/"
        },
        "outputId": "647c60e4-ba31-42b3-d21f-c4b9110aa334"
      },
      "outputs": [
        {
          "output_type": "stream",
          "name": "stdout",
          "text": [
            "Looking in indexes: https://pypi.org/simple, https://us-python.pkg.dev/colab-wheels/public/simple/\n",
            "Collecting git+https://github.com/openai/whisper.git\n",
            "  Cloning https://github.com/openai/whisper.git to /tmp/pip-req-build-fjwly4kn\n",
            "  Running command git clone --filter=blob:none --quiet https://github.com/openai/whisper.git /tmp/pip-req-build-fjwly4kn\n",
            "  Resolved https://github.com/openai/whisper.git to commit c09a7ae299c4c34c5839a76380ae407e7d785914\n",
            "  Installing build dependencies ... \u001b[?25l\u001b[?25hdone\n",
            "  Getting requirements to build wheel ... \u001b[?25l\u001b[?25hdone\n",
            "  Preparing metadata (pyproject.toml) ... \u001b[?25l\u001b[?25hdone\n",
            "Collecting tiktoken==0.3.1\n",
            "  Downloading tiktoken-0.3.1-cp310-cp310-manylinux_2_17_x86_64.manylinux2014_x86_64.whl (1.7 MB)\n",
            "\u001b[2K     \u001b[90m━━━━━━━━━━━━━━━━━━━━━━━━━━━━━━━━━━━━━━━━\u001b[0m \u001b[32m1.7/1.7 MB\u001b[0m \u001b[31m38.5 MB/s\u001b[0m eta \u001b[36m0:00:00\u001b[0m\n",
            "\u001b[?25hRequirement already satisfied: torch in /usr/local/lib/python3.10/dist-packages (from openai-whisper==20230314) (2.0.0+cu118)\n",
            "Requirement already satisfied: triton==2.0.0 in /usr/local/lib/python3.10/dist-packages (from openai-whisper==20230314) (2.0.0)\n",
            "Collecting ffmpeg-python==0.2.0\n",
            "  Downloading ffmpeg_python-0.2.0-py3-none-any.whl (25 kB)\n",
            "Requirement already satisfied: more-itertools in /usr/local/lib/python3.10/dist-packages (from openai-whisper==20230314) (9.1.0)\n",
            "Requirement already satisfied: numba in /usr/local/lib/python3.10/dist-packages (from openai-whisper==20230314) (0.56.4)\n",
            "Requirement already satisfied: tqdm in /usr/local/lib/python3.10/dist-packages (from openai-whisper==20230314) (4.65.0)\n",
            "Requirement already satisfied: numpy in /usr/local/lib/python3.10/dist-packages (from openai-whisper==20230314) (1.22.4)\n",
            "Requirement already satisfied: future in /usr/local/lib/python3.10/dist-packages (from ffmpeg-python==0.2.0->openai-whisper==20230314) (0.18.3)\n",
            "Requirement already satisfied: regex>=2022.1.18 in /usr/local/lib/python3.10/dist-packages (from tiktoken==0.3.1->openai-whisper==20230314) (2022.10.31)\n",
            "Requirement already satisfied: requests>=2.26.0 in /usr/local/lib/python3.10/dist-packages (from tiktoken==0.3.1->openai-whisper==20230314) (2.27.1)\n",
            "Requirement already satisfied: lit in /usr/local/lib/python3.10/dist-packages (from triton==2.0.0->openai-whisper==20230314) (16.0.2)\n",
            "Requirement already satisfied: filelock in /usr/local/lib/python3.10/dist-packages (from triton==2.0.0->openai-whisper==20230314) (3.12.0)\n",
            "Requirement already satisfied: cmake in /usr/local/lib/python3.10/dist-packages (from triton==2.0.0->openai-whisper==20230314) (3.25.2)\n",
            "Requirement already satisfied: setuptools in /usr/local/lib/python3.10/dist-packages (from numba->openai-whisper==20230314) (67.7.2)\n",
            "Requirement already satisfied: llvmlite<0.40,>=0.39.0dev0 in /usr/local/lib/python3.10/dist-packages (from numba->openai-whisper==20230314) (0.39.1)\n",
            "Requirement already satisfied: sympy in /usr/local/lib/python3.10/dist-packages (from torch->openai-whisper==20230314) (1.11.1)\n",
            "Requirement already satisfied: jinja2 in /usr/local/lib/python3.10/dist-packages (from torch->openai-whisper==20230314) (3.1.2)\n",
            "Requirement already satisfied: networkx in /usr/local/lib/python3.10/dist-packages (from torch->openai-whisper==20230314) (3.1)\n",
            "Requirement already satisfied: typing-extensions in /usr/local/lib/python3.10/dist-packages (from torch->openai-whisper==20230314) (4.5.0)\n",
            "Requirement already satisfied: certifi>=2017.4.17 in /usr/local/lib/python3.10/dist-packages (from requests>=2.26.0->tiktoken==0.3.1->openai-whisper==20230314) (2022.12.7)\n",
            "Requirement already satisfied: urllib3<1.27,>=1.21.1 in /usr/local/lib/python3.10/dist-packages (from requests>=2.26.0->tiktoken==0.3.1->openai-whisper==20230314) (1.26.15)\n",
            "Requirement already satisfied: charset-normalizer~=2.0.0 in /usr/local/lib/python3.10/dist-packages (from requests>=2.26.0->tiktoken==0.3.1->openai-whisper==20230314) (2.0.12)\n",
            "Requirement already satisfied: idna<4,>=2.5 in /usr/local/lib/python3.10/dist-packages (from requests>=2.26.0->tiktoken==0.3.1->openai-whisper==20230314) (3.4)\n",
            "Requirement already satisfied: MarkupSafe>=2.0 in /usr/local/lib/python3.10/dist-packages (from jinja2->torch->openai-whisper==20230314) (2.1.2)\n",
            "Requirement already satisfied: mpmath>=0.19 in /usr/local/lib/python3.10/dist-packages (from sympy->torch->openai-whisper==20230314) (1.3.0)\n",
            "Building wheels for collected packages: openai-whisper\n",
            "  Building wheel for openai-whisper (pyproject.toml) ... \u001b[?25l\u001b[?25hdone\n",
            "  Created wheel for openai-whisper: filename=openai_whisper-20230314-py3-none-any.whl size=798038 sha256=af0d4d12b8e473d2195597d7187d4b0235aec79ce41cd0c165907f4a24eb08d7\n",
            "  Stored in directory: /tmp/pip-ephem-wheel-cache-qb3azteg/wheels/8b/6c/d0/622666868c179f156cf595c8b6f06f88bc5d80c4b31dccaa03\n",
            "Successfully built openai-whisper\n",
            "Installing collected packages: ffmpeg-python, tiktoken, openai-whisper\n",
            "Successfully installed ffmpeg-python-0.2.0 openai-whisper-20230314 tiktoken-0.3.1\n",
            "Looking in indexes: https://pypi.org/simple, https://us-python.pkg.dev/colab-wheels/public/simple/\n",
            "Collecting jiwer\n",
            "  Downloading jiwer-3.0.1-py3-none-any.whl (21 kB)\n",
            "Requirement already satisfied: click<9.0.0,>=8.1.3 in /usr/local/lib/python3.10/dist-packages (from jiwer) (8.1.3)\n",
            "Collecting rapidfuzz==2.13.7\n",
            "  Downloading rapidfuzz-2.13.7-cp310-cp310-manylinux_2_17_x86_64.manylinux2014_x86_64.whl (2.2 MB)\n",
            "\u001b[2K     \u001b[90m━━━━━━━━━━━━━━━━━━━━━━━━━━━━━━━━━━━━━━━━\u001b[0m \u001b[32m2.2/2.2 MB\u001b[0m \u001b[31m89.4 MB/s\u001b[0m eta \u001b[36m0:00:00\u001b[0m\n",
            "\u001b[?25hInstalling collected packages: rapidfuzz, jiwer\n",
            "Successfully installed jiwer-3.0.1 rapidfuzz-2.13.7\n"
          ]
        }
      ],
      "source": [
        "! pip install git+https://github.com/openai/whisper.git\n",
        "! pip install jiwer"
      ]
    },
    {
      "cell_type": "markdown",
      "source": [
        "# You can save the output to Google Drive.\n",
        "\n",
        "Create a folder called \"Whisper\" then run the cell below to connect to your drive."
      ],
      "metadata": {
        "id": "BgIpLFn3xC-M"
      }
    },
    {
      "cell_type": "code",
      "source": [
        "from google.colab import drive\n",
        "drive.mount('/content/drive')"
      ],
      "metadata": {
        "id": "g5CyOpenxZGo",
        "colab": {
          "base_uri": "https://localhost:8080/"
        },
        "outputId": "a5b205c9-585d-428d-c8b0-770bd7908fd9"
      },
      "execution_count": null,
      "outputs": [
        {
          "output_type": "stream",
          "name": "stdout",
          "text": [
            "Mounted at /content/drive\n"
          ]
        }
      ]
    },
    {
      "cell_type": "markdown",
      "source": [
        "# Either upload an audio file or paste its URL.\n",
        "\n",
        "If you want to upload a file:\n",
        "\n",
        "To the left there's a folder icon. Click on it to open the left pane.\n",
        "\n",
        "1.   Drag your file there. All the commonly-used audio formats work: mp3, wav, m4a, flac, etc.\n",
        "2.   Wait for it to fully upload. (If your connection is spotty or you're simply not walking in the favor of the internet gods today, it might not work.)\n",
        "3.   Click on the three dots to the right of its filname and select \"Copy path.\"\n",
        "4. Paste the path in between the quotes in the cell below and run the cell."
      ],
      "metadata": {
        "id": "m5ps20_ieAk5"
      }
    },
    {
      "cell_type": "code",
      "source": [
        "!whisper \"/content/drive/MyDrive/Whisper/ja/PomPoko/pokopon-location.mp3\" --model large --language ja --output_dir /content/drive/MyDrive/Whisper/ja/PomPoko"
      ],
      "metadata": {
        "id": "dm8oV7j6r1Wd"
      },
      "execution_count": null,
      "outputs": []
    },
    {
      "cell_type": "markdown",
      "source": [
        "# Instead of uploading, pasting the URL to an audio file works much better.\n",
        "\n",
        "Your podcast's RSS feed contains the URL to each episode's audio file. Figuring that out is left as an exercise for the reader.\n",
        "\n",
        "You can also put an audio file in Dropbox, Google Drive, etc., share it, then paste in the URL."
      ],
      "metadata": {
        "id": "3TDsZBcCgatD"
      }
    },
    {
      "cell_type": "code",
      "source": [
        "!whisper \"https://dts.podtrac.com/redirect.mp3/chrt.fm/track/2E79/traffic.libsyn.com/secure/uncannyjapan/ep_123_ohaguro_no_yokai.mp3\" --model medium --output_dir /content/drive/MyDrive/Whisper"
      ],
      "metadata": {
        "id": "Pq7FNz3OU9kZ",
        "colab": {
          "base_uri": "https://localhost:8080/"
        },
        "outputId": "504a29ba-9b24-44c9-dfdd-e2fd40f35d4b"
      },
      "execution_count": null,
      "outputs": [
        {
          "output_type": "stream",
          "name": "stdout",
          "text": [
            "100%|█████████████████████████████████████| 1.42G/1.42G [00:24<00:00, 61.7MiB/s]\n",
            "Detecting language using up to the first 30 seconds. Use `--language` to specify the language\n",
            "Detected language: English\n",
            "[00:00.000 --> 00:05.560]  Hey, hey, this is Teresa Matsuura, and you're listening to Uncanny Japan.\n",
            "[00:05.560 --> 00:11.800]  Remember last episode when we talked about ohaguro, the practice of blackening your teeth?\n",
            "[00:11.800 --> 00:16.100]  Two, one, make yourself more attractive.\n",
            "[00:16.100 --> 00:20.440]  Or two, maybe it's your coming-of-age day.\n",
            "[00:20.440 --> 00:27.340]  Or three, perhaps you want to show your faithfulness to your spouse because black is not only beautiful,\n",
            "[00:27.340 --> 00:33.740]  but it's a color that shows loyalty, unable to be dyed by any other color.\n",
            "[00:33.740 --> 00:40.460]  Or four, possibly coloring those choppers black shows your allegiance to your dye mule.\n",
            "[00:40.460 --> 00:45.500]  Let him know that you'll serve under him and no other lord.\n",
            "[00:45.500 --> 00:51.540]  Or five, perchance you have bad teeth and you want that extra layer of protection that only\n",
            "[00:51.540 --> 00:56.660]  fermented iron shavings and gall nuts can provide.\n",
            "[00:56.660 --> 01:03.380]  Or finally six, too far gone, you have a mouthful of cavities that are killing you\n",
            "[01:03.380 --> 01:06.060]  and you need some decent pain relief.\n",
            "[01:06.060 --> 01:12.580]  Well, there were all sorts of good reasons to dye your pearly whites not so pearly white.\n",
            "[01:12.580 --> 01:18.740]  But today we're going to test that black teeth were attractive theory because we're going\n",
            "[01:18.740 --> 01:25.200]  to talk about a couple youkai who sported this fancy once upon a time trend and see\n",
            "[01:25.200 --> 01:31.120]  how they were received back in the day.\n",
            "[01:31.120 --> 01:37.080]  Would you like to explore the stranger, more obscure corners of Japanese culture?\n",
            "[01:37.080 --> 01:42.840]  Dig a little deeper into superstitions, curious customs, and all those mysterious creatures\n",
            "[01:42.840 --> 01:45.840]  that inhabit the land?\n",
            "[01:45.840 --> 01:50.520]  If so, then this is the podcast for you.\n",
            "[01:50.520 --> 01:55.840]  In Kenny Japan is where I, author Teresa Matsuura, share all the fascinating tidbits\n",
            "[01:55.840 --> 01:59.700]  I unearthed while doing research for my writing.\n",
            "[01:59.700 --> 02:05.720]  From the bizarre to the ghastly and everything in between.\n",
            "[02:05.720 --> 02:13.040]  I hope you enjoy the show.\n",
            "[02:13.040 --> 02:17.280]  Before I get to the first youkai, I want to introduce an article of clothing that I've\n",
            "[02:17.280 --> 02:21.600]  been obsessed with ever since I first heard someone mention it.\n",
            "[02:21.600 --> 02:25.140]  I had to ask, does that mean what I think it means?\n",
            "[02:25.140 --> 02:26.880]  And it did.\n",
            "[02:26.880 --> 02:31.160]  I kind of think I've talked about it here before, but for the life of me, I don't remember\n",
            "[02:31.160 --> 02:33.080]  where.\n",
            "[02:33.080 --> 02:36.140]  So I'm going to talk about it again.\n",
            "[02:36.140 --> 02:40.440]  It's going to segue into our first youkai, so don't worry, I'm not going off on too\n",
            "[02:40.440 --> 02:42.960]  much of a tangent.\n",
            "[02:42.960 --> 02:48.760]  So in Japan, if you're having a traditional Shinto wedding ceremony, even today, the bride\n",
            "[02:48.760 --> 02:55.320]  will wear a stunning, usually white kimono with a matching headpiece.\n",
            "[02:55.320 --> 02:58.620]  There are a couple different shapes to this headpiece.\n",
            "[02:58.620 --> 03:03.880]  One that goes all the way around the head, almost like a wide ribbon, and another that\n",
            "[03:03.880 --> 03:07.640]  looks like a large billowy hood.\n",
            "[03:07.640 --> 03:11.400]  Either way, they're called tsuno kakushi.\n",
            "[03:11.400 --> 03:16.400]  Tsuno is the word for horns, and kakushi means to hide.\n",
            "[03:16.400 --> 03:18.000]  Hiding horns.\n",
            "[03:18.000 --> 03:19.720]  What?\n",
            "[03:19.720 --> 03:21.520]  And how cool is that?\n",
            "[03:21.520 --> 03:24.760]  And by cool, I mean horrible.\n",
            "[03:24.760 --> 03:30.440]  The idea is that the bride should hide her horns of jealousy and selfishness, and become\n",
            "[03:30.440 --> 03:34.340]  a nice, polite, and obedient wife.\n",
            "[03:34.340 --> 03:39.680]  When I first heard about the tsuno kakushi, I made up a story in my head about men marrying\n",
            "[03:39.680 --> 03:45.600]  oni women, and it was much more exciting than just being a good wife.\n",
            "[03:45.600 --> 03:51.400]  That tsuno kakushi comes into play with our first blackened-toothed youkai.\n",
            "[03:51.400 --> 03:55.080]  She's called ohaguro bettari.\n",
            "[03:55.080 --> 04:01.860]  We know black teeth, ohaguro, and bettari is a great word that has the meaning of something\n",
            "[04:01.860 --> 04:07.480]  being spread all over, or stuck all over something.\n",
            "[04:07.480 --> 04:12.840]  It could be something like, say you're dipping your sushi into soy sauce.\n",
            "[04:12.840 --> 04:17.080]  Do you dab it lightly, and get a little shoyu on your kappamaki?\n",
            "[04:17.080 --> 04:23.320]  Or do you dunk the whole thing in, swish it around, turn it upside down, so it gets soaked\n",
            "[04:23.320 --> 04:25.560]  in soy sauce?\n",
            "[04:25.560 --> 04:31.360]  That would be bettari, which is really rude, by the way, so don't do that.\n",
            "[04:31.360 --> 04:33.600]  Dab lightly.\n",
            "[04:33.600 --> 04:38.700]  Another bettari example is you've got a clingy friend who is hanging all over you,\n",
            "[04:38.700 --> 04:41.080]  or a sibling, or a child.\n",
            "[04:41.080 --> 04:43.960]  That would be bettari, too.\n",
            "[04:43.960 --> 04:52.320]  Anyway, ohaguro bettari just means that her teeth are dyed black, completely, all over,\n",
            "[04:52.320 --> 04:58.640]  which takes on more meaning when you realize this youkai has a huge mouth.\n",
            "[04:58.640 --> 05:05.880]  One of those kuchisake-onna mouths from ear to ear, with all black teeth.\n",
            "[05:05.880 --> 05:13.000]  The most iconic image, I think, of ohaguro bettari was illustrated by Shun Sensai Takehara\n",
            "[05:13.000 --> 05:17.520]  in a work called Ehon Hyaku Monogatari.\n",
            "[05:17.520 --> 05:21.880]  This came out in the late Edo era, 1841.\n",
            "[05:21.880 --> 05:27.700]  The pictures of a woman in a beautiful flowered kimono crouched down next to what looks like\n",
            "[05:27.700 --> 05:31.780]  a torii gate, so she's at a shrine.\n",
            "[05:31.780 --> 05:36.700]  Her hair is done up, and she's wearing a tsuno kakushi around her head, so that's\n",
            "[05:36.700 --> 05:39.540]  her wedding attire.\n",
            "[05:39.540 --> 05:44.640]  She's looking back over her shoulder, and it looks like she's clapping her hands.\n",
            "[05:44.640 --> 05:50.900]  But what gets your attention isn't so much her wide smile with all black teeth, but the\n",
            "[05:50.900 --> 05:55.260]  fact that she doesn't have a nose or eyes.\n",
            "[05:55.260 --> 06:01.340]  Takehara-sensei was kind enough to add an explanation that goes something like this.\n",
            "[06:01.340 --> 06:08.020]  A man is passing an old shrine when he notices a woman on the ground prostrating herself\n",
            "[06:08.020 --> 06:10.820]  in what looks like prayer.\n",
            "[06:10.820 --> 06:16.900]  The man decides to go over and tease her, perhaps give her a fright.\n",
            "[06:16.900 --> 06:22.740]  But when he does, she turns around to face him and starts laughing insanely, geta, geta,\n",
            "[06:22.740 --> 06:24.300]  geta, geta.\n",
            "[06:24.340 --> 06:31.540]  She has no eyes or nose, only one large, black-toothed mouth.\n",
            "[06:31.540 --> 06:36.400]  The man runs away, and he tells everyone that he meets that that was the scariest thing\n",
            "[06:36.400 --> 06:39.360]  that's ever happened to him.\n",
            "[06:39.360 --> 06:42.380]  If that sounds familiar, it is.\n",
            "[06:42.380 --> 06:49.080]  Have I ever told you about the noppera-bo, which is a non-faced yokai whose sole purpose\n",
            "[06:49.080 --> 06:53.100]  usually is just to go around frightening people?\n",
            "[06:53.100 --> 06:56.420]  There's been a lot of speculation about this picture.\n",
            "[06:56.420 --> 07:01.900]  For example, at the time it was made, blackening one's teeth was still performed mostly by\n",
            "[07:01.900 --> 07:10.340]  upper-class women, like samurai wives or women who followed the Jodo Shinshu Buddhist sect.\n",
            "[07:10.340 --> 07:14.100]  So why would she be wearing a wedding kimono?\n",
            "[07:14.100 --> 07:19.460]  Some believe this Ohaguro Betari was actually the ghost of a woman who died right before\n",
            "[07:19.460 --> 07:22.900]  her wedding or on her wedding day.\n",
            "[07:22.900 --> 07:27.220]  So she's there at the shrine to haunt it.\n",
            "[07:27.220 --> 07:29.420]  But why did she die and how?\n",
            "[07:29.420 --> 07:35.620]  And we'll probably never know, but it sounds like a sad story.\n",
            "[07:35.620 --> 07:42.420]  There are also some folktales from up northeast in the Tohoku region about people or mountain\n",
            "[07:42.420 --> 07:50.460]  monks who tease foxes and tanookis, and then later have that same animal, or maybe a friend,\n",
            "[07:50.820 --> 07:56.460]  I don't know, they kind of all look alike, show up at their door, open their mouths really\n",
            "[07:56.460 --> 08:00.540]  wide and ask, do I have black teeth?\n",
            "[08:00.540 --> 08:07.220]  Which is unsettling, I suppose, but also kind of hilarious, too.\n",
            "[08:07.220 --> 08:14.460]  Another black-toothed yokai is called the ao-nyobo, or ao-onna, the blue lady.\n",
            "[08:14.460 --> 08:17.940]  She dresses like an upper-class woman of the court.\n",
            "[08:18.020 --> 08:25.820]  Toriyama Sekien depicted her wearing a Heian-era kimono, but in an old run-down estate.\n",
            "[08:25.820 --> 08:31.900]  She's probably not a higher-level court lady, but a somewhat lower-ranked one, or works\n",
            "[08:31.900 --> 08:34.620]  there and dresses nicely.\n",
            "[08:34.620 --> 08:39.820]  In this piece, she's sitting, gazing into a mirror with her mouth opened wide, showing\n",
            "[08:39.820 --> 08:45.220]  off her dark-colored teeth, a teeth-painting brush in her left hand.\n",
            "[08:45.700 --> 08:48.180]  And that's about it.\n",
            "[08:48.180 --> 08:50.740]  Some speculation goes like this.\n",
            "[08:50.740 --> 08:58.380]  Ao in Japanese means blue or green, and can also mean young or immature.\n",
            "[08:58.380 --> 09:02.820]  So an ao-samurai meant a sixth-ranked samurai.\n",
            "[09:02.820 --> 09:10.820]  Ao-nyobo, because nyobo means wife, meant she was the wife of a sixth-ranked samurai.\n",
            "[09:10.820 --> 09:17.020]  So while dressed in Heian-era garb, not a very high-ranking lady.\n",
            "[09:17.020 --> 09:23.380]  Sometimes the ao-nyobo is portrayed as vengeful and haunting old imperial palaces and noble\n",
            "[09:23.380 --> 09:25.500]  residences.\n",
            "[09:25.500 --> 09:32.380]  But in other stories, she's more mischievous and just likes to play pranks on people.\n",
            "[09:32.380 --> 09:38.700]  And finally, let me tell you about the last beastly black-toothed creature.\n",
            "[09:38.740 --> 09:41.700]  But here, let me set the mood.\n",
            "[09:47.060 --> 09:52.740]  Your name is Kosuke, and you live in Aomori Prefecture, at Ojidai.\n",
            "[09:52.740 --> 10:00.460]  Recently, your go-between introduced you to the most amazing woman, your smitten.\n",
            "[10:00.460 --> 10:05.740]  She's slightly out of your league, but it turns out there's something about you.\n",
            "[10:06.220 --> 10:10.420]  Your charm, maybe, those roguish good looks.\n",
            "[10:10.420 --> 10:16.220]  Whatever it is, you learn she's fond of you, too.\n",
            "[10:16.220 --> 10:22.620]  Now you have renewed purpose in life, determined to show your worthiness to both her and her\n",
            "[10:22.620 --> 10:23.940]  parents.\n",
            "[10:23.940 --> 10:29.940]  You work real hard and save up enough money to not only marry her, but to buy a house\n",
            "[10:29.940 --> 10:34.300]  for both of you to live in and raise a family.\n",
            "[10:34.500 --> 10:36.900]  It's a house in the country.\n",
            "[10:36.900 --> 10:41.900]  It's quite roomy, and you're proud of yourself for getting such an unbelievable deal.\n",
            "[10:41.900 --> 10:48.060]  Okay, it's not a new house, or even a slightly used one.\n",
            "[10:48.060 --> 10:49.820]  It's actually quite old.\n",
            "[10:49.820 --> 10:52.860]  A little bit rundown.\n",
            "[10:52.860 --> 10:55.260]  A little bit creaky in places.\n",
            "[10:55.260 --> 10:59.300]  And a little drafty in others.\n",
            "[10:59.300 --> 11:05.820]  And no matter how many times you ask, everyone is suspiciously vague about its history and\n",
            "[11:05.820 --> 11:12.380]  the past residents, who they were, what happened to them.\n",
            "[11:12.380 --> 11:17.220]  And what's that strange stain on the tatami floor that just doesn't come out?\n",
            "[11:21.220 --> 11:22.780]  But it doesn't matter.\n",
            "[11:22.780 --> 11:27.620]  You're full of love hormones and completely optimistic about everything.\n",
            "[11:27.620 --> 11:31.940]  Your life right now and your future with your new wife?\n",
            "[11:31.940 --> 11:35.460]  You're newlyweds, right?\n",
            "[11:35.460 --> 11:42.260]  After moving in, your first day in the house, you unpack a little, explore the many empty,\n",
            "[11:42.260 --> 11:47.900]  somewhat off-smelling rooms, then you greet your neighbors.\n",
            "[11:47.900 --> 11:53.540]  The day grows long and the sun starts to set, so you return home and you light the iori\n",
            "[11:53.540 --> 12:02.420]  sunken hearth, while your beloved fills an iron pot with chopped daikon, goboru, miso,\n",
            "[12:02.420 --> 12:10.780]  and some fresh yamakujira, that's mountain whale, wild boar for those who don't know.\n",
            "[12:10.780 --> 12:16.140]  It starts to get late, and time to turn in.\n",
            "[12:16.140 --> 12:18.540]  You're both exhausted.\n",
            "[12:18.540 --> 12:23.500]  It's been a long day of travel and getting set up in the house.\n",
            "[12:23.500 --> 12:30.820]  You climb into your futons, his and hers, situate your wooden pillows under your necks,\n",
            "[12:30.820 --> 12:33.340]  and then turn to face each other.\n",
            "[12:33.340 --> 12:38.300]  A single oil lamp flickers low in the corner of the room.\n",
            "[12:38.300 --> 12:43.380]  You're thinking up until right now, this is the happiest moment of your life.\n",
            "[12:43.380 --> 12:47.820]  You're thinking, this is absolute bliss.\n",
            "[12:47.820 --> 12:52.820]  You're thinking, what?\n",
            "[12:53.820 --> 12:59.820]  What was that?\n",
            "[12:59.820 --> 13:03.220]  Your bride asks, clutching the futon to her neck.\n",
            "[13:03.220 --> 13:06.220]  Uh, I don't know.\n",
            "[13:06.220 --> 13:14.060]  You say a little freaked out yourself.\n",
            "[13:14.060 --> 13:17.060]  There it is again.\n",
            "[13:17.060 --> 13:19.060]  Okay, this isn't right.\n",
            "[13:19.300 --> 13:27.300]  It's coming from one of the other rooms, your wife says, from inside the house.\n",
            "[13:27.300 --> 13:30.300]  I think you're right.\n",
            "[13:32.300 --> 13:36.300]  Well, aren't you going to see what it is?\n",
            "[13:36.300 --> 13:43.300]  You think to yourself how utterly dark it is out there in those long halls, many rooms.\n",
            "[13:43.300 --> 13:46.300]  Remember, no electricity.\n",
            "[13:46.540 --> 13:51.540]  It's a new moon, so you don't even have that going for you.\n",
            "[13:51.540 --> 13:56.540]  There is a candle or a paper lantern, but...\n",
            "[14:02.540 --> 14:08.540]  And that's the moment when you and your new bride learn, you're not the strong, brave\n",
            "[14:08.540 --> 14:11.540]  hero you both thought you were.\n",
            "[14:11.780 --> 14:16.780]  You mumble something about a leg cramp, or you probably over-exerted yourself unpacking\n",
            "[14:16.780 --> 14:19.780]  and you're feeling a little dizzy.\n",
            "[14:19.780 --> 14:24.780]  Best you just stay lying down for the moment.\n",
            "[14:24.780 --> 14:29.780]  So for the rest of the night, the both of you lie there listening to the obnoxious,\n",
            "[14:29.780 --> 14:34.780]  baffling, and relentless sound of something bounding through the house, yelling,\n",
            "[14:35.020 --> 14:38.020]  ouan, ouan.\n",
            "[14:42.020 --> 14:48.020]  If you had been more of a courageous soul and gone out to investigate, you would have\n",
            "[14:48.020 --> 14:53.020]  found a quite horrifying creature, somewhat human-looking.\n",
            "[14:53.020 --> 15:00.020]  It'd be naked from the waist up, lumpy all over, bald-headed, pot-bellied, with little\n",
            "[15:00.020 --> 15:03.020]  tufts of hair sprouting everywhere.\n",
            "[15:03.260 --> 15:10.260]  It would have two large eyes, a widely grinning mouth showing its teeth all painted black,\n",
            "[15:10.260 --> 15:17.260]  and its hands with three claws, raised in the air waving around like, well, it just\n",
            "[15:17.260 --> 15:26.260]  doesn't care, and it shouting, ouan, ouan, all night long.\n",
            "[15:26.260 --> 15:32.260]  You and your not-especially-proud-of-you wife get no sleep at all.\n",
            "[15:33.260 --> 15:43.260]  The next morning with daylight, the insane shouting stops, and you both hurry outside\n",
            "[15:43.260 --> 15:45.260]  to visit your neighbors.\n",
            "[15:45.260 --> 15:52.260]  Your neighbors see you, must up hair and bags under your eyes, and they listen as you complain\n",
            "[15:52.260 --> 15:59.260]  about being unable to sleep because of some youkai creature yelling the entire night.\n",
            "[15:59.500 --> 16:04.500]  They exchange glances and say, yeah, right, a youkai.\n",
            "[16:04.500 --> 16:09.500]  They didn't have air quotes back then, but if they did.\n",
            "[16:09.500 --> 16:16.100]  Just as they were being dismissive about your serious concerns, along comes an old man who\n",
            "[16:16.100 --> 16:23.500]  overhears and says, actually, there is a strange creature living in that old house, and that's\n",
            "[16:23.500 --> 16:24.780]  what he does.\n",
            "[16:24.780 --> 16:29.300]  He cries, ouan, the entire night through.\n",
            "[16:29.300 --> 16:33.720]  Yes, you think, and you look over at your wife.\n",
            "[16:33.720 --> 16:37.580]  You two aren't crazy after all.\n",
            "[16:37.580 --> 16:44.180]  So what's this mysterious beast called, you ask, feeling your bravery return.\n",
            "[16:44.180 --> 16:49.460]  Why it's called the ouan.\n",
            "[16:49.460 --> 16:52.460]  The End\n",
            "[16:53.140 --> 16:56.140]  You know, really, that's the way the old folktale ended.\n",
            "[16:56.140 --> 17:03.140]  But here, let me give you a little bit of a better ending, and it's kind of true, too.\n",
            "[17:06.140 --> 17:11.140]  The old man could have explained to the couple that there is a way to defeat the ouan, to\n",
            "[17:11.140 --> 17:13.140]  scare it away.\n",
            "[17:13.140 --> 17:15.140]  What's that, you ask?\n",
            "[17:15.140 --> 17:19.140]  Well, it's simply to shout back at it, ouan.\n",
            "[17:19.820 --> 17:25.820]  Then it will run away, and it will never return.\n",
            "[17:25.820 --> 17:31.540]  So I'm assuming those newlyweds in the original folktale either lived a life of misery with\n",
            "[17:31.540 --> 17:39.140]  the thing or moved out, which is a shame, because they could have gotten rid of it.\n",
            "[17:39.140 --> 17:46.060]  But keep in mind, in case you do find yourself in some old inn or near some shrine or temple,\n",
            "[17:46.060 --> 17:51.900]  and out jumps a creepy little dude, yelling, ouan.\n",
            "[17:51.900 --> 17:54.780]  Just shout it back at him.\n",
            "[17:54.780 --> 17:58.400]  There aren't a lot of theories about where this youkai came from.\n",
            "[17:58.400 --> 18:03.900]  Some think maybe it used to be someone belonging to an upper-class family of nobility or samurai\n",
            "[18:03.900 --> 18:11.140]  rank who used to blacken their teeth, but it's a little non-human-looking, so something\n",
            "[18:11.140 --> 18:13.500]  happened to it along the way.\n",
            "[18:13.940 --> 18:20.420]  Also, three fingers usually signifies an oni, so there's probably some ungodly mixing\n",
            "[18:20.420 --> 18:22.420]  of the two.\n",
            "[18:22.420 --> 18:28.820]  Finally, if you remember my original thesis, if you will, was it the black teeth that made\n",
            "[18:28.820 --> 18:31.620]  these creatures so frightening?\n",
            "[18:31.620 --> 18:36.460]  My opinion is that the black teeth didn't hurt, but it wasn't the main part of what\n",
            "[18:36.460 --> 18:39.140]  made them scary.\n",
            "[18:39.140 --> 18:45.980]  Looking at the three youkai, the ohaguro betari, the ao-onna, and the ouan, yes, they\n",
            "[18:45.980 --> 18:51.500]  all have blackened teeth, but it's not really the main scary point to them.\n",
            "[18:51.500 --> 18:55.500]  It's more just to show their rank, or who they were in real life.\n",
            "[18:55.500 --> 19:01.700]  Well, for the first two anyway, I'm not sure what's up with the ouan.\n",
            "[19:01.700 --> 19:07.100]  So I guess we can safely assume that teeth blackening, again, wasn't so really freaky\n",
            "[19:07.140 --> 19:09.580]  back in the day.\n",
            "[19:09.580 --> 19:10.900]  Thank you all for listening.\n",
            "[19:10.900 --> 19:16.380]  Have a wonderful day, and I will talk to you again in two weeks.\n",
            "[19:16.380 --> 19:17.380]  Bye-bye.\n",
            "[19:20.140 --> 19:25.180]  You've reached the end of the show, and I just want you to know how much we appreciate\n",
            "[19:25.180 --> 19:27.820]  you listening and supporting us.\n",
            "[19:27.820 --> 19:33.860]  Any subscribing, reviewing, and gushing to your friends, family, even random strangers,\n",
            "[19:33.860 --> 19:36.620]  really does help keep us going.\n",
            "[19:36.780 --> 19:41.540]  If you have the means and you want to help a little more, and get a little more, we are\n",
            "[19:41.540 --> 19:48.860]  making extra content over on Patreon, all for only $5 a month.\n",
            "[19:48.860 --> 19:53.820]  Or if you like to read horror, you might be interested in my Bram Stoker-nominated short\n",
            "[19:53.820 --> 19:58.420]  story collection, The Carp-Faced Boy and Other Tales.\n",
            "[19:58.420 --> 20:03.020]  Hontou ni arigatou gozaimasu.\n",
            "[20:03.020 --> 20:05.700]  Thank you again, and I'll talk to you real soon.\n"
          ]
        }
      ]
    },
    {
      "cell_type": "markdown",
      "source": [
        "# If Whisper doesn't recognize your accent or you're not speaking English...\n",
        "\n",
        "I've seen Whisper think, for example, that Scottish English is actually Welsh. If that happens, add this to the end of the !whisper command above:\n",
        "\n",
        "`--language en`\n",
        "\n",
        "It also works in more languages that just English--some better than others. You might have to change `--model medium` to `--model large`. Check the project's GitHub page for a list of all the languages it recognizes. The list of two-letter codes for languages is [here](https://github.com/openai/whisper/blob/main/whisper/tokenizer.py).\n",
        "\n",
        "https://github.com/openai/whisper\n",
        "\n",
        "A list of languages sorted by how often it makes mistakes (lower is better):\n",
        "![picture](https://github.com/openai/whisper/raw/main/language-breakdown.svg)"
      ],
      "metadata": {
        "id": "5ad9RFGXhmb2"
      }
    }
  ],
  "metadata": {
    "accelerator": "GPU",
    "colab": {
      "provenance": [],
      "include_colab_link": true
    },
    "gpuClass": "standard",
    "kernelspec": {
      "display_name": "Python 3 (ipykernel)",
      "language": "python",
      "name": "python3"
    },
    "language_info": {
      "codemirror_mode": {
        "name": "ipython",
        "version": 3
      },
      "file_extension": ".py",
      "mimetype": "text/x-python",
      "name": "python",
      "nbconvert_exporter": "python",
      "pygments_lexer": "ipython3",
      "version": "3.9.9"
    }
  },
  "nbformat": 4,
  "nbformat_minor": 0
}